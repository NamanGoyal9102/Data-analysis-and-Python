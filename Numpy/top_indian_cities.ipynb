{
 "cells": [
  {
   "cell_type": "code",
   "execution_count": null,
   "metadata": {},
   "outputs": [],
   "source": [
    "# Open and read data file as specified in the question\n",
    "# Print the required output in given format\n",
    "import numpy as np\n",
    "import pandas as pd\n",
    "import csv\n",
    "import matplotlib.pyplot as plt\n",
    "from collections import OrderedDict\n",
    "df=pd.read_csv('startup_funding.csv')\n",
    "df.dropna(subset=[\"CityLocation\"],inplace=True)\n",
    "def separatecity(city):\n",
    "    return city.split('/')[0].strip()\n",
    "# IT IS VERY IMPORTANT TO DROP THE NA VALUES FROM THE DF['LOCATION'] BECAUSE OTHERWISE THE FUNCTION WILL TREAT THEM AS FLOAT DUE TO PRESENCE\n",
    "# OF NA VALUES AND HENCE FIRST DROP THEM THEN ONLY WIL THEY WORK AS STRING\n",
    "df['CityLocation']=df['CityLocation'].apply(separatecity)\n",
    "df[df['CityLocation']=='bangalore']='Bangalore'\n",
    "df[df['CityLocation']=='Delhi']='New Delhi'\n",
    "\n",
    "city=df['CityLocation']\n",
    "cityvalues=city.value_counts()\n",
    "# value_counts() function returns the series of all the number of all the unique entries in a series of data that is number of times\n",
    "# the value appears in the series and we get the result a also in the form of sorted series that is in the same form as the form\n",
    "# in which data exists and we can then print the values of the series like we do in the string slicing or list indexing\n",
    "cityvalues=cityvalues[:10]\n",
    "# print(cityvalues)\n",
    "city_name=cityvalues.index\n",
    "city_values=cityvalues.values\n",
    "for i in city_name:\n",
    "    print(i,cityvalues[i])\n",
    "plt.pie(city_values,labels=city_name,autopct='%.2f%%')\n",
    "plt.show()\n",
    "# print(df['CityLocation'])\n",
    "\n",
    "# Top Indian Cities\n",
    "# Send Feedback\n",
    "# Given File 'startup_funding.csv'\n",
    "# Problem Statement :\n",
    "# Find out which cities are generally chosen for starting a startup.\n",
    "# Find top 10 Indian cities which have most number of startups ?\n",
    "# Plot a pie chart and visualise it.\n",
    "# Print the city name and number of startups in that city also.\n",
    "# Note :\n",
    "# Take city name \"Delhi\" as \"New Delhi\".\n",
    "# Check the case-sensitiveness of cities also. That means - at some place, instead of \"Bangalore\", \"bangalore\" is given. Take city name as \"Bangalore\".\n",
    "# For few startups multiple locations are given, one Indian and one Foreign. Count those startups in Indian startup also. Indian city name is first.\n",
    "# Print the city in descending order with respect to the number of startups.\n",
    "# Output Format :\n",
    "# city1 number1\n",
    "# city2 number2\n",
    "# . . . \n"
   ]
  }
 ],
 "metadata": {
  "kernelspec": {
   "display_name": "Python 3",
   "language": "python",
   "name": "python3"
  },
  "language_info": {
   "name": "python",
   "version": "3.11.0 (main, Oct 24 2022, 18:26:48) [MSC v.1933 64 bit (AMD64)]"
  },
  "orig_nbformat": 4,
  "vscode": {
   "interpreter": {
    "hash": "a3e2b97ac2a206039e7472d4c7579008252b3c6f0c4a51f5e22075af7b80c92c"
   }
  }
 },
 "nbformat": 4,
 "nbformat_minor": 2
}
