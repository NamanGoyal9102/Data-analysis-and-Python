{
 "cells": [
  {
   "cell_type": "code",
   "execution_count": null,
   "metadata": {},
   "outputs": [],
   "source": [
    "# Iris Virginica\n",
    "# Send Feedback\n",
    "# Problem Statement\n",
    "# Find the data of flower “Iris-virginica” type where petal-length > 1.5?\n",
    "# Note: Get the dataset from here\n",
    "# Print the all the feature values.\n",
    "# Output Format\n",
    "# feature1 feature2 feature3 feature4 feature5\n",
    "# feature1 feature2 feature3 feature4 feature5\n",
    "# feature1 feature2 feature3 feature4 feature5\n",
    "# feature1 feature2 feature3 feature4 feature5\n",
    "# . . .\n",
    "# . . .\n",
    "# . . .\n",
    "## Open and read data file as specified in the question\n",
    "## Print the required output in given format\n",
    "import pandas as pd\n",
    "df=pd.read_csv(\"https://gist.githubusercontent.com/netj/8836201/raw/6f9306ad21398ea43cba4f7d537619d0e07d5ae3/iris.csv\")\n",
    "df1=df[df['variety']=='Virginica']\n",
    "df2=df1['petal.length']>1.5\n",
    "df3=df1[df2]\n",
    "# print(df3.columns)\n",
    "for i in df3.values:\n",
    "    print(i[0],i[1],i[2],i[3],\"Iris-\"+i[4].lower())\n",
    "# print(df3)\n",
    "# for i in df3:\n",
    "#     print(i)\n",
    "\n",
    "# main feature to not in this is the .values ussing which we can print the pd file without any header\n"
   ]
  }
 ],
 "metadata": {
  "language_info": {
   "name": "python"
  },
  "orig_nbformat": 4
 },
 "nbformat": 4,
 "nbformat_minor": 2
}
