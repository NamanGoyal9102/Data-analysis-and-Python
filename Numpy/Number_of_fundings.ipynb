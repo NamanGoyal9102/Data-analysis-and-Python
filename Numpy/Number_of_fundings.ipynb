{
 "cells": [
  {
   "cell_type": "code",
   "execution_count": null,
   "metadata": {},
   "outputs": [],
   "source": [
    "# Open and read data file as specified in the question\n",
    "# Print the required output in given format\n",
    "import numpy as np\n",
    "import pandas as pd\n",
    "import csv\n",
    "import matplotlib.pyplot as plt\n",
    "from collections import OrderedDict\n",
    "data=open('startup_funding.csv')\n",
    "file_data=csv.DictReader(data,skipinitialspace=True)\n",
    "year=OrderedDict()\n",
    "for row in file_data:\n",
    "    if row['Date']=='####':\n",
    "        continue\n",
    "    else:\n",
    "        key=row['Date'][-4:]\n",
    "        if row['Date'][-4:] in year:\n",
    "            year[key]+=1\n",
    "        else:\n",
    "            year[key]=1\n",
    "\n",
    "years=list(year.keys())\n",
    "value=list(year.values())\n",
    "years=np.array(years)\n",
    "value=np.array(value,dtype=int)\n",
    "plt.plot(years,value)\n",
    "plt.show()\n",
    "year=OrderedDict(reversed(list(year.items())))\n",
    "# THOS WHOLE IS USED TO REVERSE THE ALTREADY CREATED  ORDERED LIST , WE USE ORDERED LIST TO GET THE KEYS AND VALUES IN THE SAME ORDERE IN \n",
    "# WHICH THEY OCCUR IN THE DATA\n",
    "for i in year:\n",
    "    print(i,year[i])\n",
    "# for i in \n",
    "# print(year)\n",
    "\n",
    "# Number of Fundings\n",
    "# Send Feedback\n",
    "# Given File 'startup_funding.csv'\n",
    "# Problem Statement :\n",
    "# Check the trend of investments over the years. To check the trend, find -\n",
    "# Total number of fundings done in each year.\n",
    "# Plot a line graph between year and number of fundings. Take year on x-axis and number of fundings on y-axis.\n",
    "# Print year-wise total number of fundings also. Print years in ascending order.\n",
    "# Note :\n",
    "# There is some error in the 'Date' feature. Make sure to handle that.\n",
    "# Output Format :\n",
    "# year1 TotalFunding1\n",
    "# year2 TotalFunding2\n",
    "# . . . \n"
   ]
  }
 ],
 "metadata": {
  "language_info": {
   "name": "python"
  },
  "orig_nbformat": 4
 },
 "nbformat": 4,
 "nbformat_minor": 2
}
