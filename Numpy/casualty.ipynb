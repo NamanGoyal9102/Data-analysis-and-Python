{
 "cells": [
  {
   "cell_type": "code",
   "execution_count": null,
   "metadata": {},
   "outputs": [],
   "source": [
    "## Open and read data file as specified in the question\n",
    "## Print the required output in given format\n",
    "import numpy as np\n",
    "import csv\n",
    "data=open(\"terrorismData.csv\")\n",
    "file_set=csv.DictReader(data,skipinitialspace=True)\n",
    "killed=[]\n",
    "wounded=[]\n",
    "city=[]\n",
    "group=[]\n",
    "# read the documentation properly and then only execute the code because now we don't know the answer and now we have to calculate the\n",
    "# the right answer by using what is given\n",
    "for row in file_set:\n",
    "    if (row['Year']=='1999') & (row['Month']=='5' or row['Month']=='7' or row['Month']=='6') and (row['State']=='Jammu and Kashmir'):\n",
    "        killed.append(row['Killed'])\n",
    "        wounded.append(row['Wounded'])\n",
    "        city.append(row['City'])\n",
    "        group.append(row['Group'])\n",
    "        \n",
    "killed=np.array(killed)\n",
    "wounded=np.array(wounded)\n",
    "city=np.array(city)\n",
    "group=np.array(group)\n",
    "killed[killed=='']='0.0'\n",
    "wounded[wounded=='']='0.0'\n",
    "killed=np.array(killed,dtype=float)\n",
    "killed=np.array(killed,dtype=int)\n",
    "\n",
    "wounded=np.array(wounded,dtype=float)\n",
    "wounded=np.array(wounded,dtype=int)\n",
    "\n",
    "casualty=np.array(killed+wounded)\n",
    "ans=np.argmax(casualty)\n",
    "# print(ans)\n",
    "# print(city)\n",
    "print(casualty[ans],city[ans],group[ans])\n",
    "        \n",
    "# Terror Casualty Attack\n",
    "# Send Feedback\n",
    "# Given file \"terrorismData.csv\"\n",
    "# It is an open-source database including information on terrorist attacks around the world from 1970 through 2017. This dataset includes systematic data on domestic as well as international terrorist incidents that have occurred during this time period\n",
    "# Problem Statement :\n",
    "# As we knew the Kargil ( in Jammu and Kashmir) War that took place between May 1999 and July 1999 (3 Months) ,so there was a huge conflict in Kashmir Valley during this period.\n",
    "# In this dataset, there is no information regarding the war between the two countries to find out the casualty during the war.\n",
    "# So find out the attack in this period in which maximum casualties happened.\n",
    "# Print the count of casualties (as integer), city in which that attack happened and name of attack group.\n",
    "# Note : Casualty = Killed + Wounded.Fill the empty value in killed or wounded feature to 0.\n",
    "# Output Format :\n",
    "# Casualty City TerroristGroup"
   ]
  }
 ],
 "metadata": {
  "language_info": {
   "name": "python"
  },
  "orig_nbformat": 4
 },
 "nbformat": 4,
 "nbformat_minor": 2
}
