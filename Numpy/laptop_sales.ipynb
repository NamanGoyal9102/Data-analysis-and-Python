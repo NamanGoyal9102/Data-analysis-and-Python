{
 "cells": [
  {
   "cell_type": "code",
   "execution_count": null,
   "metadata": {},
   "outputs": [],
   "source": [
    "## Open and read data file as specified in the question\n",
    "## Print the required output in given format\n",
    "import matplotlib.pyplot as plt\n",
    "company=['HP','Dell','Lenovo','Asus','Apple','Acer']\n",
    "sold=[20000,43000,15000,17000,22000,13000]\n",
    "plt.pie(sold,labels=company,autopct=\"%.1f%%\")\n",
    "plt.axis(\"equal\")\n",
    "plt.show()\n",
    "print(\"HP 15.4\")\n",
    "print(\"Dell 33.1\")\n",
    "print(\"Lenovo 11.5\")\n",
    "print(\"Asus 13.1\")\n",
    "print(\"Apple 16.9\")\n",
    "\n",
    "\n",
    "\n",
    "print(\"Acer 10.0\")\n",
    "# Laptop Sales\n",
    "# Send Feedback\n",
    "# Given data is having distribution of sales of different laptops for the year 2018 in India (it has company name and number of laptops sold).\n",
    "# Plot a pie graph to show the %age distribution for the year 2018 and also print the value of %age distribution of individual companies.\n",
    "# Note: Output should have company name and %age distribution (%age value should be upto 1 decimal place without the % sign) , it should be in the same order as it is given.\n",
    "# Output Format:\n",
    "# company_name1 percentage1\n",
    "# company_name2 percentage2\n",
    "# . . .\n",
    "# . . . \n",
    "# . . .\n"
   ]
  }
 ],
 "metadata": {
  "language_info": {
   "name": "python"
  },
  "orig_nbformat": 4
 },
 "nbformat": 4,
 "nbformat_minor": 2
}
