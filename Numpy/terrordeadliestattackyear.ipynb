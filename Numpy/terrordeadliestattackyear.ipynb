{
 "cells": [
  {
   "cell_type": "code",
   "execution_count": null,
   "metadata": {},
   "outputs": [],
   "source": [
    "## Open and read data file as specified in the question\n",
    "## Print the required output in given format\n",
    "import numpy as np\n",
    "import pandas as pd\n",
    "df=pd.read_csv('terrorismData.csv')\n",
    "country=df['Country'].value_counts()\n",
    "# REGARDING THE .VALUE_COUNTS() FUNCTION Return a Series containing counts of unique values. The resulting object will be in descending \n",
    "# order so that the first element is the most frequently-occurring element. Excludes NA values by default.\n",
    "\n",
    "countrymax=country.index[0]\n",
    "index=country.values[0]\n",
    "df=df[df.Country==countrymax]\n",
    "year=df['Year'].value_counts()\n",
    "print(countrymax,index,year.index[0])\n",
    "\n",
    "\n",
    "\n",
    "# Terror Attack\n",
    "# Send Feedback\n",
    "# Given file \"terrorismData.csv\"\n",
    "# It is an open-source database including information on terrorist attacks around the world from 1970 through 2017. This dataset includes systematic data on domestic as well as international terrorist incidents that have occurred during this time period\n",
    "# Problem Statement :\n",
    "# Find out the Country with Highest Number of Terror Attack and in which year the most number of terrorist attack happened in that country ?\n",
    "# Print count of terror attacks as integer value.\n",
    "# Output Format :\n",
    "# Country NumberOfAttack Year"
   ]
  }
 ],
 "metadata": {
  "language_info": {
   "name": "python"
  },
  "orig_nbformat": 4
 },
 "nbformat": 4,
 "nbformat_minor": 2
}
