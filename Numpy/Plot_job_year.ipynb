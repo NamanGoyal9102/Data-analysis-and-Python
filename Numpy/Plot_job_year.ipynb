{
 "cells": [
  {
   "cell_type": "code",
   "execution_count": null,
   "metadata": {},
   "outputs": [],
   "source": [
    "# Open and read data file as specified in the question\n",
    "# Print the required output in given format\n",
    "import numpy as np\n",
    "import pandas as pd\n",
    "import matplotlib.pyplot as plt\n",
    "from collections import OrderedDict\n",
    "df=pd.read_csv(\"amazon_jobs_dataset.csv\",skipinitialspace=True)\n",
    "number=OrderedDict()\n",
    "# a=df['2018' in df.Posting_date]\n",
    "for i in range(len(df.index)):\n",
    "    if df.Posting_date[i][-4:] in number:\n",
    "        number[df.Posting_date[i][-4:]]+=1\n",
    "    else:\n",
    "        number[df.Posting_date[i][-4:]]=1\n",
    "\n",
    "a=list(number.keys())\n",
    "b=list(number.values())\n",
    "# b=b.reverse()\n",
    "\n",
    "a=np.array(a,dtype=int)\n",
    "b=np.array(b,dtype=int)\n",
    "\n",
    "# a=np.sort(a)\n",
    "# b=np.sort(b)\n",
    "plt.plot(a,b)\n",
    "plt.show()\n",
    "a=np.flip(a)\n",
    "b=np.flip(b)                 \n",
    "# THE FLIP FUNCTION OF THE NUMPY VERY USEFUL TO REVERSE THE GIVEN NUMPY ARRAY\n",
    "for i in range(len(a)):\n",
    "    print(a[i],b[i])\n",
    "\n",
    "    \n",
    "#     the SOLUTION OF THE ANSWER\n",
    "\n",
    "# import pandas as pd \n",
    "# import numpy as np \n",
    "# import matplotlib.pyplot as plt\n",
    "# df = pd.read_csv('amazon_jobs_dataset.csv')\n",
    "# df['Posting_date'] = df['Posting_date'].str[-4:]\n",
    "# df= df.sort_values(by='Posting_date',ascending=True)\n",
    "# df = df.groupby(by='Posting_date').size()\n",
    "# year = []\n",
    "# No_of_job=[]\n",
    "# for i in df.index:\n",
    "#     year.append(i)\n",
    "#     No_of_job.append(df.loc[i])\n",
    "#     print(i,df.loc[i])\n",
    "    \n",
    "# plt.plot(year,No_of_job)\n",
    "# plt.show()"
   ]
  }
 ],
 "metadata": {
  "kernelspec": {
   "display_name": "Python 3.11.0 64-bit",
   "language": "python",
   "name": "python3"
  },
  "language_info": {
   "name": "python",
   "version": "3.11.0"
  },
  "orig_nbformat": 4,
  "vscode": {
   "interpreter": {
    "hash": "a3e2b97ac2a206039e7472d4c7579008252b3c6f0c4a51f5e22075af7b80c92c"
   }
  }
 },
 "nbformat": 4,
 "nbformat_minor": 2
}
