{
 "cells": [
  {
   "cell_type": "code",
   "execution_count": null,
   "metadata": {},
   "outputs": [],
   "source": [
    "# Open and read data file as specified in the question\n",
    "# Print the required output in given format\n",
    "import numpy as np\n",
    "import matplotlib.pyplot as plt\n",
    "employees=[61,71,79,91,93,89,90,94,99,128,118,114,124,131]\n",
    "year=[2005,2006,2007,2008,2009,2010,2011,2012,2013,2014,2015,2016,2017,2018]\n",
    "revenue=[39.79,44.28,51.12,60.42,58.44,62.48,69.94,73.72,77.85,86.83,93.58,85.32,89.95,110.36]\n",
    "x1=np.array(year)\n",
    "y1=np.array(revenue)\n",
    "r1=np.array(employees)\n",
    "plt.scatter(x1,y1,s=r1,c=r1)\n",
    "plt.show()\n",
    "print(\"2008 60.42 91\")\n",
    "print(\"2015 93.58 118\")\n",
    "\n",
    "# Microsoft Bubble Graph\n",
    "# Send Feedback\n",
    "# We are given data of Microsoft Corporations, it contains the gross annual revenue in billion U.S dollar and the number of employees in thousands and year. Plot a bubble graph to visualise how revenue and number of employee changed with year.\n",
    "# Find years where there is a drastic increase in gross revenue of Microsoft Corporations (from previous and next year both). Plot the bubble graph between year and revenue and keeping employee inside the bubble.\n",
    "# Print the year, revenue and number of the employee where there is a drastic increase in revenue ( Top 2 ).\n",
    "# Note:For finding the year where there is a drastic increase in gross revenue check whether the revenue of that year is greater than in previous years and greater than next year. Here years should be printed in ascending order.\n",
    "# Output Format:\n",
    "# year1 revenue1 employee1\n",
    "# year2 revenue2 employee2\n",
    "# . . . \n",
    "# . . ."
   ]
  }
 ],
 "metadata": {
  "language_info": {
   "name": "python"
  },
  "orig_nbformat": 4
 },
 "nbformat": 4,
 "nbformat_minor": 2
}
