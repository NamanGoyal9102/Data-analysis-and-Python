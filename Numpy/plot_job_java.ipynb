{
 "cells": [
  {
   "cell_type": "code",
   "execution_count": null,
   "metadata": {},
   "outputs": [],
   "source": [
    "# Open and read data file as specified in the question\n",
    "# Print the required output in given format\n",
    "import pandas as pd \n",
    "import numpy as np \n",
    "import matplotlib.pyplot as plt\n",
    "import csv\n",
    "\n",
    "data=open('amazon_jobs_dataset.csv')\n",
    "file_data=csv.DictReader(data,skipinitialspace=True)\n",
    "year={}\n",
    "for row in file_data:\n",
    "    # print(type(row['BASIC QUALIFICATIONS']))\n",
    "    if 'Java' in row['BASIC QUALIFICATIONS'] or 'java' in row['BASIC QUALIFICATIONS']:\n",
    "        # print(row['Posting_date'][-4:])\n",
    "        if row['Posting_date'][-4:] in year:\n",
    "            year[row['Posting_date'][-4:]]+=1\n",
    "        else:\n",
    "            year[row['Posting_date'][-4:]]=1\n",
    "\n",
    "years=list(year.keys())\n",
    "jobs=list(year.values())\n",
    "years=np.array(years,dtype=int)\n",
    "jobs=np.array(jobs,dtype=int)\n",
    "plt.scatter(years,jobs)\n",
    "plt.show()\n",
    "for i in year:\n",
    "    print(i,year[i])\n",
    "# print(year)        \n",
    "        \n",
    "#         Plot Job_Java\n",
    "# Send Feedback\n",
    "# Given File:\n",
    "# amazon_jobs_dataset.csv\n",
    "# It is a dataset including information on amazon job opening around the world from June 2011 to March 2018. This dataset is collected using Selenium and BeautifulSoup by scraping all of the jobs for Amazon job site.\n",
    "# Problem Statement :\n",
    "# Plot the scatter graph between year vs No. of jobs opening related to Java.\n",
    "# Print the year and number of Jobs opening in Java Profile.\n",
    "# Note: Use the Keyword 'Java' or 'java' in Basic Qualification feature for finding the job opening related to Java Profile. Print the year in ascending order.\n",
    "# Output Format :\n",
    "# year1 JobOpening1\n",
    "# year2 JobOpening2\n",
    "# . . . \n",
    "# . . .\n",
    "# . . .\n"
   ]
  }
 ],
 "metadata": {
  "language_info": {
   "name": "python"
  },
  "orig_nbformat": 4
 },
 "nbformat": 4,
 "nbformat_minor": 2
}
