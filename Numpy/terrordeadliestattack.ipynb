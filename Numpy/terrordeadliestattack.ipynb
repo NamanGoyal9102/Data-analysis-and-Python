{
 "cells": [
  {
   "cell_type": "code",
   "execution_count": null,
   "metadata": {},
   "outputs": [],
   "source": [
    "## Open and read data file as specified in the question\n",
    "## Print the required output in given format\n",
    "import numpy as np\n",
    "import pandas as pd\n",
    "df=pd.read_csv('terrorismData.csv')\n",
    "deadly=np.array(df['Killed'])\n",
    "deadlt=np.nan_to_num(deadly)\n",
    "deadly=np.array(deadly,dtype=int)\n",
    "deadly=np.max(deadly)\n",
    "df=df[df.Killed==deadly]\n",
    "\n",
    "print(deadly,df.Country.iloc[0],df.Group.iloc[0])\n",
    "# The iloc() function in python is defined in the Pandas module that helps us to select a specific row or column from the data set.\n",
    "# Using the iloc method in python, we can easily retrieve any particular value from a row or column by using index values.\n",
    "# The syntax of the iloc function in python is very simple: pandas.dataset.iloc[row, column]\n",
    "# The iloc function in python takes two optional parameters, i.e., row number(s) and column number(s). We can only pass integer type values as parameter(s) in the iloc function in python.\n",
    "# Using the parameters provided, the iloc function in python returns a data set or series.\n",
    "# If we specify only row value, then the iloc function returns a Pandas Series. If we specify the row value and column value, then the iloc function returns all the content of the specified cell. If we specify a list of values, the python iloc function returns a Pandas DataFrame.\n",
    "# # print(df)"
   ]
  }
 ],
 "metadata": {
  "language_info": {
   "name": "python"
  },
  "orig_nbformat": 4
 },
 "nbformat": 4,
 "nbformat_minor": 2
}
