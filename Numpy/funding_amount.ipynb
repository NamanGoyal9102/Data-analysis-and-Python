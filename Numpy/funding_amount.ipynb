{
 "cells": [
  {
   "cell_type": "code",
   "execution_count": null,
   "metadata": {},
   "outputs": [],
   "source": [
    "# Open and read data file as specified in the question\n",
    "# Print the required output in given format\n",
    "import pandas as pd\n",
    "import numpy as np\n",
    "import csv\n",
    "import matplotlib.pyplot as plt\n",
    "from collections import OrderedDict\n",
    "\n",
    "df=pd.read_csv('startup_funding.csv')\n",
    "df.dropna(subset=['CityLocation'],inplace=True)\n",
    "def separatecity(city):\n",
    "    return city.split('/')[0].strip()\n",
    "df['CityLocation']=df['CityLocation'].apply(separatecity)\n",
    "df[df['CityLocation']=='bangalore']='Bangalore'\n",
    "df[df['CityLocation']=='Delhi']='New Delhi'\n",
    "df.dropna(subset=['AmountInUSD'],inplace=True)\n",
    "df[df['AmountInUSD']=='Bangalore']=None\n",
    "df[df['AmountInUSD']=='New Delhi']=None\n",
    "df[df['AmountInUSD']=='####']=None\n",
    "df[df['AmountInUSD']=='']=None\n",
    "\n",
    "# DON'T USE THE IF STRING=='' | IF STRING =='NEW DELHI':\n",
    "#       RETURN NONE \n",
    "# BECAUSE IT DOES  NOT WORK ALWAYS ELSE USE THIS INBUILT FUNCTION OF PANDAS TO REMOVE UNWANTED VALUES AND THEN APPLY DROPNA()\n",
    "df.dropna(subset=['AmountInUSD'],inplace=True)\n",
    "df['AmountInUSD'] = df['AmountInUSD'].apply(lambda x: float(str(x).replace(\",\",\"\")))\n",
    "df=df.groupby('CityLocation')['AmountInUSD'].sum()\n",
    "df=df.sort_values(ascending=False)[0:10]\n",
    "# print(df[0])\n",
    "city=df.index\n",
    "amount=df.values\n",
    "explode = [0.2,0.2,0.2,0.2,0.1,0.1,0.2,0.2,0.2,0.2]\n",
    "plt.pie(amount,labels = city,autopct='%0.2f',counterclock=False,startangle=90,explode=explode,radius=1.5)\n",
    "plt.show()\n",
    "percent=np.true_divide(amount,amount.sum())*100\n",
    "for i in range(len(city)):\n",
    "    print(city[i],format(percent[i],'0.2f'))\n",
    "# print(city)\n",
    "\n",
    "# city=df['CityLocation'].value_counts()[:10]\n",
    "# print(city)\n",
    "# cityper=city.values\n",
    "# print(type(cityper))\n",
    "# print(cityper)\n",
    "# sum=np.sum(cityper)\n",
    "# print(cityper/sum*100)\n",
    "\n",
    "\n",
    "# Funding amount\n",
    "# Send Feedback\n",
    "# Given File 'startup_funding.csv'\n",
    "# Problem Statement :\n",
    "# Find out if cities play any role in receiving funding.\n",
    "# Find top 10 Indian cities with most amount of fundings received. Find out percentage of funding each city has got (among top 10 Indian cities only).\n",
    "# Print the city and percentage with 2 decimal place after rounding off.\n",
    "# Note:\n",
    "# Take city name \"Delhi\" as \"New Delhi\".\n",
    "# Check the case-sensitiveness of cities also. That means - at some place, instead of \"Bangalore\", \"bangalore\" is given. Take city name as \"Bangalore\".\n",
    "# For few startups multiple locations are given, one Indian and one Foreign. Count those startups in Indian startup also. Indian city name is first.\n",
    "# Print the city in descending order with respect to the percentage of funding.\n",
    "# Output Format :\n",
    "# city1 percent1\n",
    "# city2 percent2\n",
    "# city3 percent3\n",
    "# . . . \n",
    "# . . .\n",
    "# . . ."
   ]
  }
 ],
 "metadata": {
  "kernelspec": {
   "display_name": "Python 3",
   "language": "python",
   "name": "python3"
  },
  "language_info": {
   "name": "python",
   "version": "3.11.0 (main, Oct 24 2022, 18:26:48) [MSC v.1933 64 bit (AMD64)]"
  },
  "orig_nbformat": 4,
  "vscode": {
   "interpreter": {
    "hash": "a3e2b97ac2a206039e7472d4c7579008252b3c6f0c4a51f5e22075af7b80c92c"
   }
  }
 },
 "nbformat": 4,
 "nbformat_minor": 2
}
