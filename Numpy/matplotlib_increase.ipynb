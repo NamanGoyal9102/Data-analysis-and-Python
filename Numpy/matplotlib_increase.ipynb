{
 "cells": [
  {
   "cell_type": "code",
   "execution_count": null,
   "metadata": {},
   "outputs": [],
   "source": [
    "## Open and read data file as specified in the question\n",
    "## Print the required output in given format\n",
    "import numpy as np\n",
    "import matplotlib.pyplot as ply\n",
    "x=np.arange(0,41,2)\n",
    "y=2**x\n",
    "ply.plot(x,y,\"b--\")\n",
    "ply.show()\n",
    "print('30')\n",
    "\n",
    "# print(y)\n",
    "\n",
    "# Matplotlib increase\n",
    "# Send Feedback\n",
    "# Your task is to find the point of inclination by visualizing the plot for the given points on the x and y-axis.\n",
    "# You need to follow these steps:\n",
    "# 1. Create two arrays, x and y. \n",
    "# 2. x should hold the first 20 even points starting from 0 and y should be an exponentiation array where \n",
    "#                           y[i] = 2^x[I]. \n",
    "# 3. Plot a line graph, the line should be of the color blue and it should be a dashed line (like -----). \n",
    "# 4. Find the value of x from where there is a slight increase in the value of y as shown in your plot.\n",
    "# Expected Output\n",
    "# Plot and print the value of x.\n",
    "\n",
    "# **Note**: Printed x must be a multiple of 5.\n",
    "# Output Format\n",
    "# x\n"
   ]
  }
 ],
 "metadata": {
  "language_info": {
   "name": "python"
  },
  "orig_nbformat": 4
 },
 "nbformat": 4,
 "nbformat_minor": 2
}
